{
 "cells": [
  {
   "cell_type": "markdown",
   "metadata": {},
   "source": [
    "# Bank Beta"
   ]
  },
  {
   "cell_type": "markdown",
   "metadata": {},
   "source": [
    "Saya memiliki data nasabah `Bank Beta`, dan tujuan saya adalah memperkirakan apakah mereka nasabah bank akan segera meninggalkan bank atau tidak. Saya juga memiliki data riwayat pemutusan kontrak dengan nasab. Untuk memprediksi perilakunya, saya akan mencoba berbagai model pengklasifikasi mechine learning yaitu; `Logistic Regression, Decision Tree, Random Forest`. Saya akan mencari baris duplikat dan mengisi nilai yang hilang. Lalu membagi data menjadi kumpulan `fitur` dan `target`. Untuk melatih model Logistic Regerssion, saya harus mengkodekan fitur kategorikal dan menstandardisasi fitur numerik; untuk model tree/forest , saya akan menggunakan pengkodean ordinal dan standarisasi numerik. Saya akan membagi kedua kerangka data menjadi set pelatihan, validasi, dan pengujian.\n",
    "\n",
    "Saya akan memeriksa keseimbangan kelas dalam target, dan mencoba membangun model tanpa menyeimbangkan kelas, dengan memperhatikan skor F1 dan akurasi. Saat saya melatih model, saya akan mengoptimalkan skor F1 setinggi mungkin, dengan akurasi sebagai catatan tambahan.\n",
    "\n",
    "Kemudian saya akan menggunakan fungsi `downsampling` dan `upsampling` untuk menyeimbangkan jumlah observasi target positif dan negatif (kelas), melatih dan memvalidasi model dengan kumpulan data yang telah diproses sepenuhnya, dan memilih model dengan skor F1 tertinggi. Pada akhirnya saya akan menguji skor akhir F1 model menggunakan set pengujian dan menemukan skor AUC-ROC. Persyaratan utama agar model berhasil adalah skor F1 yang diuji `minimal 0,59`. Saya juga akan melakukan `sanity check` pada keakuratannya dan mengharuskan model yang diuji akhir melampaui skor akurasi yang diperoleh secara kebetulan, dan AUC-ROC harus `lebih dari 0,50`."
   ]
  },
  {
   "cell_type": "code",
   "execution_count": 1,
   "metadata": {},
   "outputs": [],
   "source": [
    "import pandas as pd\n",
    "import matplotlib.pyplot as plt \n",
    "\n",
    "# from sklearnex import patch_sklearn \n",
    "# patch_sklearn()\n",
    "\n",
    "from sklearn.tree import DecisionTreeClassifier\n",
    "from sklearn.ensemble import RandomForestClassifier\n",
    "from sklearn.linear_model import LogisticRegression\n",
    "\n",
    "from sklearn.model_selection import train_test_split\n",
    "from sklearn.metrics import f1_score, roc_auc_score, accuracy_score, roc_curve, precision_recall_curve\n",
    "from sklearn.preprocessing import OrdinalEncoder, StandardScaler\n",
    "from sklearn.utils import shuffle\n",
    "\n",
    "from joblib import dump"
   ]
  },
  {
   "cell_type": "markdown",
   "metadata": {},
   "source": [
    "## Preprocessing"
   ]
  },
  {
   "cell_type": "code",
   "execution_count": 2,
   "metadata": {},
   "outputs": [],
   "source": [
    "try:\n",
    "    churn_data= pd.read_csv('churn.csv')\n",
    "except:\n",
    "    churn_data = pd.read_csv('/datasets/Churn.csv')"
   ]
  },
  {
   "cell_type": "code",
   "execution_count": 3,
   "metadata": {},
   "outputs": [
    {
     "name": "stdout",
     "output_type": "stream",
     "text": [
      "<class 'pandas.core.frame.DataFrame'>\n",
      "RangeIndex: 10000 entries, 0 to 9999\n",
      "Data columns (total 14 columns):\n",
      " #   Column           Non-Null Count  Dtype  \n",
      "---  ------           --------------  -----  \n",
      " 0   RowNumber        10000 non-null  int64  \n",
      " 1   CustomerId       10000 non-null  int64  \n",
      " 2   Surname          10000 non-null  object \n",
      " 3   CreditScore      10000 non-null  int64  \n",
      " 4   Geography        10000 non-null  object \n",
      " 5   Gender           10000 non-null  object \n",
      " 6   Age              10000 non-null  int64  \n",
      " 7   Tenure           9091 non-null   float64\n",
      " 8   Balance          10000 non-null  float64\n",
      " 9   NumOfProducts    10000 non-null  int64  \n",
      " 10  HasCrCard        10000 non-null  int64  \n",
      " 11  IsActiveMember   10000 non-null  int64  \n",
      " 12  EstimatedSalary  10000 non-null  float64\n",
      " 13  Exited           10000 non-null  int64  \n",
      "dtypes: float64(3), int64(8), object(3)\n",
      "memory usage: 1.1+ MB\n"
     ]
    }
   ],
   "source": [
    "churn_data.info ()"
   ]
  },
  {
   "cell_type": "markdown",
   "metadata": {},
   "source": [
    "Terlihat dari info diatas bahwasannya pada data untuk kolom `Tenure` Terdapat nilai yang hilang"
   ]
  },
  {
   "cell_type": "code",
   "execution_count": 4,
   "metadata": {},
   "outputs": [
    {
     "data": {
      "text/plain": [
       "<AxesSubplot:>"
      ]
     },
     "execution_count": 4,
     "metadata": {},
     "output_type": "execute_result"
    },
    {
     "data": {
      "image/png": "[encoded data removed]",
      "text/plain": [
       "<Figure size 288x144 with 1 Axes>"
      ]
     },
     "metadata": {
      "needs_background": "light"
     },
     "output_type": "display_data"
    }
   ],
   "source": [
    "#memeriksa normalitas\n",
    "\n",
    "churn_data.Tenure.hist(figsize=(4,2)) "
   ]
  },
  {
   "cell_type": "markdown",
   "metadata": {},
   "source": [
    "Distribusinya seragam, tidak normal. Meskipun mean dan median sepertinya hampir sama. Mari kita gunakan median untuk mengisi nilai."
   ]
  },
  {
   "cell_type": "code",
   "execution_count": 5,
   "metadata": {},
   "outputs": [],
   "source": [
    "churn_data.Tenure = churn_data.Tenure.fillna(churn_data.Tenure.median()).astype('int')"
   ]
  },
  {
   "cell_type": "code",
   "execution_count": 6,
   "metadata": {},
   "outputs": [
    {
     "data": {
      "text/html": [
       "<div>\n",
       "<style scoped>\n",
       "    .dataframe tbody tr th:only-of-type {\n",
       "        vertical-align: middle;\n",
       "    }\n",
       "\n",
       "    .dataframe tbody tr th {\n",
       "        vertical-align: top;\n",
       "    }\n",
       "\n",
       "    .dataframe thead th {\n",
       "        text-align: right;\n",
       "    }\n",
       "</style>\n",
       "<table border=\"1\" class=\"dataframe\">\n",
       "  <thead>\n",
       "    <tr style=\"text-align: right;\">\n",
       "      <th></th>\n",
       "      <th>RowNumber</th>\n",
       "      <th>CustomerId</th>\n",
       "      <th>Surname</th>\n",
       "      <th>CreditScore</th>\n",
       "      <th>Geography</th>\n",
       "      <th>Gender</th>\n",
       "      <th>Age</th>\n",
       "      <th>Tenure</th>\n",
       "      <th>Balance</th>\n",
       "      <th>NumOfProducts</th>\n",
       "      <th>HasCrCard</th>\n",
       "      <th>IsActiveMember</th>\n",
       "      <th>EstimatedSalary</th>\n",
       "      <th>Exited</th>\n",
       "    </tr>\n",
       "  </thead>\n",
       "  <tbody>\n",
       "    <tr>\n",
       "      <th>0</th>\n",
       "      <td>1</td>\n",
       "      <td>15634602</td>\n",
       "      <td>Hargrave</td>\n",
       "      <td>619</td>\n",
       "      <td>France</td>\n",
       "      <td>Female</td>\n",
       "      <td>42</td>\n",
       "      <td>2</td>\n",
       "      <td>0.00</td>\n",
       "      <td>1</td>\n",
       "      <td>1</td>\n",
       "      <td>1</td>\n",
       "      <td>101348.88</td>\n",
       "      <td>1</td>\n",
       "    </tr>\n",
       "    <tr>\n",
       "      <th>1</th>\n",
       "      <td>2</td>\n",
       "      <td>15647311</td>\n",
       "      <td>Hill</td>\n",
       "      <td>608</td>\n",
       "      <td>Spain</td>\n",
       "      <td>Female</td>\n",
       "      <td>41</td>\n",
       "      <td>1</td>\n",
       "      <td>83807.86</td>\n",
       "      <td>1</td>\n",
       "      <td>0</td>\n",
       "      <td>1</td>\n",
       "      <td>112542.58</td>\n",
       "      <td>0</td>\n",
       "    </tr>\n",
       "    <tr>\n",
       "      <th>2</th>\n",
       "      <td>3</td>\n",
       "      <td>15619304</td>\n",
       "      <td>Onio</td>\n",
       "      <td>502</td>\n",
       "      <td>France</td>\n",
       "      <td>Female</td>\n",
       "      <td>42</td>\n",
       "      <td>8</td>\n",
       "      <td>159660.80</td>\n",
       "      <td>3</td>\n",
       "      <td>1</td>\n",
       "      <td>0</td>\n",
       "      <td>113931.57</td>\n",
       "      <td>1</td>\n",
       "    </tr>\n",
       "    <tr>\n",
       "      <th>3</th>\n",
       "      <td>4</td>\n",
       "      <td>15701354</td>\n",
       "      <td>Boni</td>\n",
       "      <td>699</td>\n",
       "      <td>France</td>\n",
       "      <td>Female</td>\n",
       "      <td>39</td>\n",
       "      <td>1</td>\n",
       "      <td>0.00</td>\n",
       "      <td>2</td>\n",
       "      <td>0</td>\n",
       "      <td>0</td>\n",
       "      <td>93826.63</td>\n",
       "      <td>0</td>\n",
       "    </tr>\n",
       "    <tr>\n",
       "      <th>4</th>\n",
       "      <td>5</td>\n",
       "      <td>15737888</td>\n",
       "      <td>Mitchell</td>\n",
       "      <td>850</td>\n",
       "      <td>Spain</td>\n",
       "      <td>Female</td>\n",
       "      <td>43</td>\n",
       "      <td>2</td>\n",
       "      <td>125510.82</td>\n",
       "      <td>1</td>\n",
       "      <td>1</td>\n",
       "      <td>1</td>\n",
       "      <td>79084.10</td>\n",
       "      <td>0</td>\n",
       "    </tr>\n",
       "  </tbody>\n",
       "</table>\n",
       "</div>"
      ],
      "text/plain": [
       "   RowNumber  CustomerId   Surname  CreditScore Geography  Gender  Age  \\\n",
       "0          1    15634602  Hargrave          619    France  Female   42   \n",
       "1          2    15647311      Hill          608     Spain  Female   41   \n",
       "2          3    15619304      Onio          502    France  Female   42   \n",
       "3          4    15701354      Boni          699    France  Female   39   \n",
       "4          5    15737888  Mitchell          850     Spain  Female   43   \n",
       "\n",
       "   Tenure    Balance  NumOfProducts  HasCrCard  IsActiveMember  \\\n",
       "0       2       0.00              1          1               1   \n",
       "1       1   83807.86              1          0               1   \n",
       "2       8  159660.80              3          1               0   \n",
       "3       1       0.00              2          0               0   \n",
       "4       2  125510.82              1          1               1   \n",
       "\n",
       "   EstimatedSalary  Exited  \n",
       "0        101348.88       1  \n",
       "1        112542.58       0  \n",
       "2        113931.57       1  \n",
       "3         93826.63       0  \n",
       "4         79084.10       0  "
      ]
     },
     "execution_count": 6,
     "metadata": {},
     "output_type": "execute_result"
    }
   ],
   "source": [
    "churn_data.head()"
   ]
  },
  {
   "cell_type": "code",
   "execution_count": 7,
   "metadata": {},
   "outputs": [
    {
     "name": "stdout",
     "output_type": "stream",
     "text": [
      "<class 'pandas.core.frame.DataFrame'>\n",
      "RangeIndex: 10000 entries, 0 to 9999\n",
      "Data columns (total 14 columns):\n",
      " #   Column           Non-Null Count  Dtype  \n",
      "---  ------           --------------  -----  \n",
      " 0   RowNumber        10000 non-null  int64  \n",
      " 1   CustomerId       10000 non-null  int64  \n",
      " 2   Surname          10000 non-null  object \n",
      " 3   CreditScore      10000 non-null  int64  \n",
      " 4   Geography        10000 non-null  object \n",
      " 5   Gender           10000 non-null  object \n",
      " 6   Age              10000 non-null  int64  \n",
      " 7   Tenure           10000 non-null  int64  \n",
      " 8   Balance          10000 non-null  float64\n",
      " 9   NumOfProducts    10000 non-null  int64  \n",
      " 10  HasCrCard        10000 non-null  int64  \n",
      " 11  IsActiveMember   10000 non-null  int64  \n",
      " 12  EstimatedSalary  10000 non-null  float64\n",
      " 13  Exited           10000 non-null  int64  \n",
      "dtypes: float64(2), int64(9), object(3)\n",
      "memory usage: 1.1+ MB\n"
     ]
    }
   ],
   "source": [
    "churn_data.info()"
   ]
  },
  {
   "cell_type": "code",
   "execution_count": 8,
   "metadata": {},
   "outputs": [
    {
     "data": {
      "text/plain": [
       "0"
      ]
     },
     "execution_count": 8,
     "metadata": {},
     "output_type": "execute_result"
    }
   ],
   "source": [
    "churn_data.duplicated().sum()"
   ]
  },
  {
   "cell_type": "markdown",
   "metadata": {},
   "source": [
    "`churn_data` tidak memiliki duplikat data"
   ]
  },
  {
   "cell_type": "markdown",
   "metadata": {},
   "source": [
    "Selanjutkan memproses dataframe menggunakan pengkodean `one-hot` saat kita menguji model Logistic Regerssion, dan secara terpisah menggunakan pengkodean ordinal saat kita menguji model Decision Tree dan pengklasifikasi Random Forest. Kategori  `geography` dan `gender`, keduanya bersifat nominal, jadi kita tidak perlu khawatir untuk memberikan perintah pada fitur tersebut."
   ]
  },
  {
   "cell_type": "code",
   "execution_count": 9,
   "metadata": {},
   "outputs": [],
   "source": [
    "features = churn_data.drop(['RowNumber', 'CustomerId', 'Surname', 'Exited'], axis=1) #Hilangkan fitur (pengidentifikasi) yang tidak membantu bersama dengan targetnya\n",
    "target = churn_data.Exited"
   ]
  },
  {
   "cell_type": "markdown",
   "metadata": {},
   "source": [
    "##  Prepare Logistic Regression Data"
   ]
  },
  {
   "cell_type": "code",
   "execution_count": 10,
   "metadata": {},
   "outputs": [],
   "source": [
    "features_ohe = pd.get_dummies(features, drop_first=True) # Membuat kerangka data berkode one-hot untuk regresi logistik Regression"
   ]
  },
  {
   "cell_type": "markdown",
   "metadata": {},
   "source": [
    "Sekarang kita telah membahas variabel kategori, saya ingin membakukan variabel numerik. Kita dapat menggunakan kelas scaler standar untuk ini. Namun, kita perlu membagi data menjadi set pelatihan, validasi, dan pengujian sebelum saya membakukan data, untuk memastikan kelas menggunakan mean/varians yang paling tepat untuk penghitungannya.\n",
    "\n",
    "Saya ingin 60% data digunakan untuk pelatihan, dan 20% untuk setiap set validasi dan pengujian. Pertama-tama kami akan membagi fitur dan kumpulan data target menjadi kumpulan pelatihan dan kumpulan pengujian, dengan rasio 80/20. Kemudian, kita dapat membagi lebih lanjut set pelatihan baru ini menjadi set pelatihan akhir dan set validasi. Dalam hal ini, set validasi harus berasal dari 25% set pelatihan untuk menghasilkan rasio 60/20/20. Hal ini karena 25% dari 80 sama dengan 20."
   ]
  },
  {
   "cell_type": "code",
   "execution_count": 11,
   "metadata": {},
   "outputs": [],
   "source": [
    "x_train, features_test_ohe, y_train, target_test = train_test_split(\n",
    "    features_ohe, target, test_size=0.2, random_state=123)\n",
    "\n",
    "features_train_ohe, features_valid_ohe, target_train, target_valid = train_test_split(\n",
    "    x_train, y_train, test_size=0.25, random_state=123)"
   ]
  },
  {
   "cell_type": "code",
   "execution_count": 12,
   "metadata": {},
   "outputs": [],
   "source": [
    "numeric = ['CreditScore', 'Age', 'Tenure', 'Balance', 'NumOfProducts', 'EstimatedSalary']\n",
    "\n",
    "scaler = StandardScaler()\n",
    "scaler.fit(features_train_ohe[numeric])\n",
    "\n",
    "features_train_ohe = features_train_ohe.copy()\n",
    "features_valid_ohe = features_valid_ohe.copy()\n",
    "features_test_ohe = features_test_ohe.copy()\n",
    "\n",
    "features_train_ohe.loc[:, numeric] = scaler.transform(features_train_ohe[numeric])\n",
    "features_valid_ohe.loc[:, numeric] = scaler.transform(features_valid_ohe[numeric])\n",
    "features_test_ohe.loc[:, numeric] = scaler.transform(features_test_ohe[numeric])\n",
    "\n"
   ]
  },
  {
   "cell_type": "code",
   "execution_count": 13,
   "metadata": {},
   "outputs": [
    {
     "data": {
      "text/html": [
       "<div>\n",
       "<style scoped>\n",
       "    .dataframe tbody tr th:only-of-type {\n",
       "        vertical-align: middle;\n",
       "    }\n",
       "\n",
       "    .dataframe tbody tr th {\n",
       "        vertical-align: top;\n",
       "    }\n",
       "\n",
       "    .dataframe thead th {\n",
       "        text-align: right;\n",
       "    }\n",
       "</style>\n",
       "<table border=\"1\" class=\"dataframe\">\n",
       "  <thead>\n",
       "    <tr style=\"text-align: right;\">\n",
       "      <th></th>\n",
       "      <th>CreditScore</th>\n",
       "      <th>Age</th>\n",
       "      <th>Tenure</th>\n",
       "      <th>Balance</th>\n",
       "      <th>NumOfProducts</th>\n",
       "      <th>HasCrCard</th>\n",
       "      <th>IsActiveMember</th>\n",
       "      <th>EstimatedSalary</th>\n",
       "      <th>Geography_Germany</th>\n",
       "      <th>Geography_Spain</th>\n",
       "      <th>Gender_Male</th>\n",
       "    </tr>\n",
       "  </thead>\n",
       "  <tbody>\n",
       "    <tr>\n",
       "      <th>8189</th>\n",
       "      <td>0.652468</td>\n",
       "      <td>-1.698690</td>\n",
       "      <td>1.096509</td>\n",
       "      <td>-1.213083</td>\n",
       "      <td>0.781092</td>\n",
       "      <td>1</td>\n",
       "      <td>0</td>\n",
       "      <td>-0.535390</td>\n",
       "      <td>0</td>\n",
       "      <td>0</td>\n",
       "      <td>1</td>\n",
       "    </tr>\n",
       "    <tr>\n",
       "      <th>8845</th>\n",
       "      <td>0.796864</td>\n",
       "      <td>0.002583</td>\n",
       "      <td>-1.450269</td>\n",
       "      <td>0.886952</td>\n",
       "      <td>-0.920634</td>\n",
       "      <td>1</td>\n",
       "      <td>1</td>\n",
       "      <td>1.637287</td>\n",
       "      <td>1</td>\n",
       "      <td>0</td>\n",
       "      <td>0</td>\n",
       "    </tr>\n",
       "    <tr>\n",
       "      <th>1165</th>\n",
       "      <td>0.621526</td>\n",
       "      <td>0.947735</td>\n",
       "      <td>0.005033</td>\n",
       "      <td>1.258423</td>\n",
       "      <td>0.781092</td>\n",
       "      <td>0</td>\n",
       "      <td>0</td>\n",
       "      <td>1.681465</td>\n",
       "      <td>1</td>\n",
       "      <td>0</td>\n",
       "      <td>0</td>\n",
       "    </tr>\n",
       "    <tr>\n",
       "      <th>1742</th>\n",
       "      <td>-0.698668</td>\n",
       "      <td>1.420312</td>\n",
       "      <td>-1.450269</td>\n",
       "      <td>0.022130</td>\n",
       "      <td>-0.920634</td>\n",
       "      <td>0</td>\n",
       "      <td>0</td>\n",
       "      <td>0.672609</td>\n",
       "      <td>1</td>\n",
       "      <td>0</td>\n",
       "      <td>0</td>\n",
       "    </tr>\n",
       "    <tr>\n",
       "      <th>1139</th>\n",
       "      <td>0.776236</td>\n",
       "      <td>1.703857</td>\n",
       "      <td>-1.450269</td>\n",
       "      <td>0.538309</td>\n",
       "      <td>-0.920634</td>\n",
       "      <td>0</td>\n",
       "      <td>1</td>\n",
       "      <td>-1.715362</td>\n",
       "      <td>0</td>\n",
       "      <td>1</td>\n",
       "      <td>0</td>\n",
       "    </tr>\n",
       "  </tbody>\n",
       "</table>\n",
       "</div>"
      ],
      "text/plain": [
       "      CreditScore       Age    Tenure   Balance  NumOfProducts  HasCrCard  \\\n",
       "8189     0.652468 -1.698690  1.096509 -1.213083       0.781092          1   \n",
       "8845     0.796864  0.002583 -1.450269  0.886952      -0.920634          1   \n",
       "1165     0.621526  0.947735  0.005033  1.258423       0.781092          0   \n",
       "1742    -0.698668  1.420312 -1.450269  0.022130      -0.920634          0   \n",
       "1139     0.776236  1.703857 -1.450269  0.538309      -0.920634          0   \n",
       "\n",
       "      IsActiveMember  EstimatedSalary  Geography_Germany  Geography_Spain  \\\n",
       "8189               0        -0.535390                  0                0   \n",
       "8845               1         1.637287                  1                0   \n",
       "1165               0         1.681465                  1                0   \n",
       "1742               0         0.672609                  1                0   \n",
       "1139               1        -1.715362                  0                1   \n",
       "\n",
       "      Gender_Male  \n",
       "8189            1  \n",
       "8845            0  \n",
       "1165            0  \n",
       "1742            0  \n",
       "1139            0  "
      ]
     },
     "execution_count": 13,
     "metadata": {},
     "output_type": "execute_result"
    }
   ],
   "source": [
    "features_train_ohe.head()"
   ]
  },
  {
   "cell_type": "markdown",
   "metadata": {},
   "source": [
    "Tabelnya terlihat sebagaimana mestinya. Fitur kategorikal nominal telah dipecah menjadi fitur biner, dan fitur numerik telah diskalakan."
   ]
  },
  {
   "cell_type": "markdown",
   "metadata": {},
   "source": [
    "## Prepare Decision Tree / Random Forest Data"
   ]
  },
  {
   "cell_type": "code",
   "execution_count": 14,
   "metadata": {},
   "outputs": [
    {
     "data": {
      "text/html": [
       "<div>\n",
       "<style scoped>\n",
       "    .dataframe tbody tr th:only-of-type {\n",
       "        vertical-align: middle;\n",
       "    }\n",
       "\n",
       "    .dataframe tbody tr th {\n",
       "        vertical-align: top;\n",
       "    }\n",
       "\n",
       "    .dataframe thead th {\n",
       "        text-align: right;\n",
       "    }\n",
       "</style>\n",
       "<table border=\"1\" class=\"dataframe\">\n",
       "  <thead>\n",
       "    <tr style=\"text-align: right;\">\n",
       "      <th></th>\n",
       "      <th>CreditScore</th>\n",
       "      <th>Geography</th>\n",
       "      <th>Gender</th>\n",
       "      <th>Age</th>\n",
       "      <th>Tenure</th>\n",
       "      <th>Balance</th>\n",
       "      <th>NumOfProducts</th>\n",
       "      <th>HasCrCard</th>\n",
       "      <th>IsActiveMember</th>\n",
       "      <th>EstimatedSalary</th>\n",
       "    </tr>\n",
       "  </thead>\n",
       "  <tbody>\n",
       "    <tr>\n",
       "      <th>0</th>\n",
       "      <td>228.0</td>\n",
       "      <td>0.0</td>\n",
       "      <td>0.0</td>\n",
       "      <td>24.0</td>\n",
       "      <td>2.0</td>\n",
       "      <td>0.0</td>\n",
       "      <td>0.0</td>\n",
       "      <td>1.0</td>\n",
       "      <td>1.0</td>\n",
       "      <td>5068.0</td>\n",
       "    </tr>\n",
       "    <tr>\n",
       "      <th>1</th>\n",
       "      <td>217.0</td>\n",
       "      <td>2.0</td>\n",
       "      <td>0.0</td>\n",
       "      <td>23.0</td>\n",
       "      <td>1.0</td>\n",
       "      <td>743.0</td>\n",
       "      <td>0.0</td>\n",
       "      <td>0.0</td>\n",
       "      <td>1.0</td>\n",
       "      <td>5639.0</td>\n",
       "    </tr>\n",
       "    <tr>\n",
       "      <th>2</th>\n",
       "      <td>111.0</td>\n",
       "      <td>0.0</td>\n",
       "      <td>0.0</td>\n",
       "      <td>24.0</td>\n",
       "      <td>8.0</td>\n",
       "      <td>5793.0</td>\n",
       "      <td>2.0</td>\n",
       "      <td>1.0</td>\n",
       "      <td>0.0</td>\n",
       "      <td>5707.0</td>\n",
       "    </tr>\n",
       "    <tr>\n",
       "      <th>3</th>\n",
       "      <td>308.0</td>\n",
       "      <td>0.0</td>\n",
       "      <td>0.0</td>\n",
       "      <td>21.0</td>\n",
       "      <td>1.0</td>\n",
       "      <td>0.0</td>\n",
       "      <td>1.0</td>\n",
       "      <td>0.0</td>\n",
       "      <td>0.0</td>\n",
       "      <td>4704.0</td>\n",
       "    </tr>\n",
       "    <tr>\n",
       "      <th>4</th>\n",
       "      <td>459.0</td>\n",
       "      <td>2.0</td>\n",
       "      <td>0.0</td>\n",
       "      <td>25.0</td>\n",
       "      <td>2.0</td>\n",
       "      <td>3696.0</td>\n",
       "      <td>0.0</td>\n",
       "      <td>1.0</td>\n",
       "      <td>1.0</td>\n",
       "      <td>3925.0</td>\n",
       "    </tr>\n",
       "  </tbody>\n",
       "</table>\n",
       "</div>"
      ],
      "text/plain": [
       "   CreditScore  Geography  Gender   Age  Tenure  Balance  NumOfProducts  \\\n",
       "0        228.0        0.0     0.0  24.0     2.0      0.0            0.0   \n",
       "1        217.0        2.0     0.0  23.0     1.0    743.0            0.0   \n",
       "2        111.0        0.0     0.0  24.0     8.0   5793.0            2.0   \n",
       "3        308.0        0.0     0.0  21.0     1.0      0.0            1.0   \n",
       "4        459.0        2.0     0.0  25.0     2.0   3696.0            0.0   \n",
       "\n",
       "   HasCrCard  IsActiveMember  EstimatedSalary  \n",
       "0        1.0             1.0           5068.0  \n",
       "1        0.0             1.0           5639.0  \n",
       "2        1.0             0.0           5707.0  \n",
       "3        0.0             0.0           4704.0  \n",
       "4        1.0             1.0           3925.0  "
      ]
     },
     "execution_count": 14,
     "metadata": {},
     "output_type": "execute_result"
    }
   ],
   "source": [
    "encoder = OrdinalEncoder()\n",
    "features_ordinal = pd.DataFrame(encoder.fit_transform(features), columns=features.columns) #Membuat encoded label dataframe untuk decision tree \n",
    "features_ordinal.head()"
   ]
  },
  {
   "cell_type": "code",
   "execution_count": 15,
   "metadata": {},
   "outputs": [],
   "source": [
    "x_train, features_test_ord, y_train, target_test = train_test_split(\n",
    "    features_ordinal, target, test_size=0.2, random_state=123)\n",
    "\n",
    "features_train_ord, features_valid_ord, target_train, target_valid = train_test_split(\n",
    "    x_train, y_train, test_size=0.25, random_state=123)"
   ]
  },
  {
   "cell_type": "code",
   "execution_count": 16,
   "metadata": {},
   "outputs": [],
   "source": [
    "numeric = ['CreditScore', 'Age', 'Tenure', 'Balance', 'NumOfProducts', 'EstimatedSalary']\n",
    "\n",
    "scaler = StandardScaler()\n",
    "scaler.fit(features_train_ohe[numeric])\n",
    "\n",
    "features_train_ord = features_train_ohe.copy()\n",
    "features_valid_ord = features_valid_ohe.copy()\n",
    "features_test_ord = features_test_ohe.copy()\n",
    "\n",
    "features_train_ord.loc[:, numeric] = scaler.transform(features_train_ohe[numeric])\n",
    "features_valid_ord.loc[:, numeric] = scaler.transform(features_valid_ohe[numeric])\n",
    "features_test_ord.loc[:, numeric] = scaler.transform(features_test_ohe[numeric])"
   ]
  },
  {
   "cell_type": "code",
   "execution_count": 17,
   "metadata": {},
   "outputs": [
    {
     "data": {
      "text/html": [
       "<div>\n",
       "<style scoped>\n",
       "    .dataframe tbody tr th:only-of-type {\n",
       "        vertical-align: middle;\n",
       "    }\n",
       "\n",
       "    .dataframe tbody tr th {\n",
       "        vertical-align: top;\n",
       "    }\n",
       "\n",
       "    .dataframe thead th {\n",
       "        text-align: right;\n",
       "    }\n",
       "</style>\n",
       "<table border=\"1\" class=\"dataframe\">\n",
       "  <thead>\n",
       "    <tr style=\"text-align: right;\">\n",
       "      <th></th>\n",
       "      <th>CreditScore</th>\n",
       "      <th>Age</th>\n",
       "      <th>Tenure</th>\n",
       "      <th>Balance</th>\n",
       "      <th>NumOfProducts</th>\n",
       "      <th>HasCrCard</th>\n",
       "      <th>IsActiveMember</th>\n",
       "      <th>EstimatedSalary</th>\n",
       "      <th>Geography_Germany</th>\n",
       "      <th>Geography_Spain</th>\n",
       "      <th>Gender_Male</th>\n",
       "    </tr>\n",
       "  </thead>\n",
       "  <tbody>\n",
       "    <tr>\n",
       "      <th>8189</th>\n",
       "      <td>0.652468</td>\n",
       "      <td>-1.698690</td>\n",
       "      <td>1.096509</td>\n",
       "      <td>-1.213083</td>\n",
       "      <td>0.781092</td>\n",
       "      <td>1</td>\n",
       "      <td>0</td>\n",
       "      <td>-0.535390</td>\n",
       "      <td>0</td>\n",
       "      <td>0</td>\n",
       "      <td>1</td>\n",
       "    </tr>\n",
       "    <tr>\n",
       "      <th>8845</th>\n",
       "      <td>0.796864</td>\n",
       "      <td>0.002583</td>\n",
       "      <td>-1.450269</td>\n",
       "      <td>0.886952</td>\n",
       "      <td>-0.920634</td>\n",
       "      <td>1</td>\n",
       "      <td>1</td>\n",
       "      <td>1.637287</td>\n",
       "      <td>1</td>\n",
       "      <td>0</td>\n",
       "      <td>0</td>\n",
       "    </tr>\n",
       "    <tr>\n",
       "      <th>1165</th>\n",
       "      <td>0.621526</td>\n",
       "      <td>0.947735</td>\n",
       "      <td>0.005033</td>\n",
       "      <td>1.258423</td>\n",
       "      <td>0.781092</td>\n",
       "      <td>0</td>\n",
       "      <td>0</td>\n",
       "      <td>1.681465</td>\n",
       "      <td>1</td>\n",
       "      <td>0</td>\n",
       "      <td>0</td>\n",
       "    </tr>\n",
       "    <tr>\n",
       "      <th>1742</th>\n",
       "      <td>-0.698668</td>\n",
       "      <td>1.420312</td>\n",
       "      <td>-1.450269</td>\n",
       "      <td>0.022130</td>\n",
       "      <td>-0.920634</td>\n",
       "      <td>0</td>\n",
       "      <td>0</td>\n",
       "      <td>0.672609</td>\n",
       "      <td>1</td>\n",
       "      <td>0</td>\n",
       "      <td>0</td>\n",
       "    </tr>\n",
       "    <tr>\n",
       "      <th>1139</th>\n",
       "      <td>0.776236</td>\n",
       "      <td>1.703857</td>\n",
       "      <td>-1.450269</td>\n",
       "      <td>0.538309</td>\n",
       "      <td>-0.920634</td>\n",
       "      <td>0</td>\n",
       "      <td>1</td>\n",
       "      <td>-1.715362</td>\n",
       "      <td>0</td>\n",
       "      <td>1</td>\n",
       "      <td>0</td>\n",
       "    </tr>\n",
       "  </tbody>\n",
       "</table>\n",
       "</div>"
      ],
      "text/plain": [
       "      CreditScore       Age    Tenure   Balance  NumOfProducts  HasCrCard  \\\n",
       "8189     0.652468 -1.698690  1.096509 -1.213083       0.781092          1   \n",
       "8845     0.796864  0.002583 -1.450269  0.886952      -0.920634          1   \n",
       "1165     0.621526  0.947735  0.005033  1.258423       0.781092          0   \n",
       "1742    -0.698668  1.420312 -1.450269  0.022130      -0.920634          0   \n",
       "1139     0.776236  1.703857 -1.450269  0.538309      -0.920634          0   \n",
       "\n",
       "      IsActiveMember  EstimatedSalary  Geography_Germany  Geography_Spain  \\\n",
       "8189               0        -0.535390                  0                0   \n",
       "8845               1         1.637287                  1                0   \n",
       "1165               0         1.681465                  1                0   \n",
       "1742               0         0.672609                  1                0   \n",
       "1139               1        -1.715362                  0                1   \n",
       "\n",
       "      Gender_Male  \n",
       "8189            1  \n",
       "8845            0  \n",
       "1165            0  \n",
       "1742            0  \n",
       "1139            0  "
      ]
     },
     "execution_count": 17,
     "metadata": {},
     "output_type": "execute_result"
    }
   ],
   "source": [
    "features_train_ord.head()"
   ]
  },
  {
   "cell_type": "markdown",
   "metadata": {},
   "source": [
    "Tabelnya terlihat sebagaimana mestinya. Fitur kategorikal nominal telah diubah menjadi kode angka, dan fitur numerik telah distandarisasi."
   ]
  },
  {
   "cell_type": "markdown",
   "metadata": {},
   "source": [
    "## Train Models Without Balancing Classes"
   ]
  },
  {
   "cell_type": "markdown",
   "metadata": {},
   "source": [
    "Kita bisa melihat Seri target untuk melihat keseimbangan antara kelas positif dan negatif."
   ]
  },
  {
   "cell_type": "code",
   "execution_count": 18,
   "metadata": {},
   "outputs": [
    {
     "name": "stdout",
     "output_type": "stream",
     "text": [
      "0    7963\n",
      "1    2037\n",
      "Name: Exited, dtype: int64\n"
     ]
    }
   ],
   "source": [
    "target_classes = target.value_counts()\n",
    "print(target_classes)"
   ]
  },
  {
   "cell_type": "code",
   "execution_count": 19,
   "metadata": {},
   "outputs": [
    {
     "name": "stdout",
     "output_type": "stream",
     "text": [
      "0.7963 dari target observasinya negatif.\n"
     ]
    }
   ],
   "source": [
    "class_ratio = target_classes[0]/target_classes.sum() #Menampilkan sanity check\n",
    "print(class_ratio, 'dari target observasinya negatif.')"
   ]
  },
  {
   "cell_type": "markdown",
   "metadata": {},
   "source": [
    "Tampaknya terdapat lebih banyak observasi sasaran negatif dibandingkan observasi positif. Saat ini mencoba menyeimbangkannya nanti, namun untuk saat ini kami akan melatih beberapa model. Ini akan membantu kita melihat pentingnya keseimbangan kelas. Kami akan mengevaluasi model berdasarkan akurasi (setidaknya harus 80% akurat, berdasarkan pemeriksaan kewarasan), dan pada akhirnya berdasarkan skor F1 tertinggi."
   ]
  },
  {
   "cell_type": "markdown",
   "metadata": {},
   "source": [
    "Model regresi logistik berkinerja lebih buruk dalam hal skor F1 daripada yang saya harapkan. Skor F1 yang lebih rendah untuk set validasi mungkin menunjukkan adanya overfitting. Akurasinya tepat di atas ambang batas 0,80."
   ]
  },
  {
   "cell_type": "markdown",
   "metadata": {},
   "source": [
    "###  Decision Tree Model"
   ]
  },
  {
   "cell_type": "code",
   "execution_count": 20,
   "metadata": {},
   "outputs": [
    {
     "name": "stdout",
     "output_type": "stream",
     "text": [
      "Best F1 score: 0.5677233429394812 diperoleh dengan kedalaman maksimum 5.\n",
      "Model accuracy: 0.85\n"
     ]
    }
   ],
   "source": [
    "best_depth = 0\n",
    "model_accuracy = 0\n",
    "best_f1_score = 0\n",
    "model_tree = None\n",
    "\n",
    "for depth in range(1,11):\n",
    "    model = DecisionTreeClassifier(max_depth=depth, random_state = 123) # create instance of class\n",
    "    model.fit(features_train_ord, target_train) # Fit model dengan training data\n",
    "    pred_valid = model.predict(features_valid_ord)\n",
    "    \n",
    "    f1_score_var = f1_score(target_valid, pred_valid) # Menghitung score f1\n",
    "    accuracy = accuracy_score(target_valid, pred_valid)\n",
    "\n",
    "    #Dokumentasikan hyperparameter dengan performa tertinggi, beserta akurasinya yang sesuai.\n",
    "    if f1_score_var > best_f1_score: \n",
    "        best_f1_score = f1_score_var\n",
    "        model_accuracy = accuracy\n",
    "        best_depth = depth\n",
    "        model_tree = model\n",
    "        \n",
    "print(f'Best F1 score: {best_f1_score} diperoleh dengan kedalaman maksimum {best_depth}.') \n",
    "print(f'Model accuracy: {model_accuracy}') "
   ]
  },
  {
   "cell_type": "markdown",
   "metadata": {},
   "source": [
    "Dengan menggunakan `Decision Tree` skor f1 sedikit di bawah persyaratan, namun keakuratannya di atas persyaratan. Mari kita coba hutan acak."
   ]
  },
  {
   "cell_type": "markdown",
   "metadata": {},
   "source": [
    "###  Random Forest Model"
   ]
  },
  {
   "cell_type": "code",
   "execution_count": 21,
   "metadata": {},
   "outputs": [
    {
     "name": "stdout",
     "output_type": "stream",
     "text": [
      "Best F1 score: 0.5757575757575758 obtained using 30 trees with max_depth 6.\n",
      "Model accuracy: 0.86\n"
     ]
    }
   ],
   "source": [
    "best_f1_score = 0\n",
    "model_accuracy = 0\n",
    "best_est = 0\n",
    "best_depth = 0\n",
    "model_forest = None\n",
    "\n",
    "for est in range (10, 101, 10):\n",
    "    for depth in range (1, 11):\n",
    "        model = RandomForestClassifier(\n",
    "            max_features=1.0,\n",
    "            n_estimators=est, max_depth=depth, random_state=123)\n",
    "        model.fit(features_train_ord, target_train)\n",
    "        pred_valid = model.predict(features_valid_ord)\n",
    "        \n",
    "        f1_score_var = f1_score(target_valid, pred_valid) #Menghitung f1 score\n",
    "        accuracy = accuracy_score(target_valid, pred_valid)\n",
    "        \n",
    "        if f1_score_var > best_f1_score: \n",
    "            best_f1_score = f1_score_var\n",
    "            model_accuracy = accuracy\n",
    "            best_depth = depth\n",
    "            best_est = est\n",
    "            model_tree = model\n",
    "            \n",
    "print(f\"Best F1 score: {best_f1_score} obtained using {best_est} trees with\\\n",
    " max_depth {best_depth}.\")\n",
    "print(f'Model accuracy: {model_accuracy}')"
   ]
  },
  {
   "cell_type": "markdown",
   "metadata": {},
   "source": [
    "Model `Random Forest` berkinerja sedikit lebih baik dalam hal skor F1 dibandingkan `Single Decision Tree`. Namun masih belum mencapai persyaratan 0,59. Akurasinya masih di atas cutoff 0,80. Mari kita coba `Logistics Regression` menggunakan fitur OHE.\n",
    "\n",
    "Model dengan skor F1 teratas saat ini merupakan pengklasifikasi hutan acak dengan skor F1 sebesar 0,56, yang hampir memenuhi persyaratan kami sebesar 0,59. Menyeimbangkan kelas seharusnya dapat meningkatkan skor F1 untuk model ini secara memadai."
   ]
  },
  {
   "cell_type": "markdown",
   "metadata": {},
   "source": [
    "## Balance Classes and Retrain Models"
   ]
  },
  {
   "cell_type": "code",
   "execution_count": 22,
   "metadata": {},
   "outputs": [],
   "source": [
    "def upsample(features, target, repeat): # Upsamples the positive class\n",
    "    features_zeros = features[target == 0]\n",
    "    features_ones = features[target == 1]\n",
    "    target_zeros = target[target == 0]\n",
    "    target_ones = target[target == 1]\n",
    "\n",
    "    features_upsampled = pd.concat([features_zeros] + [features_ones] * repeat)\n",
    "    target_upsampled = pd.concat([target_zeros] + [target_ones] * repeat)\n",
    "\n",
    "    features_upsampled, target_upsampled = shuffle(\n",
    "        features_upsampled, target_upsampled, random_state=54321)\n",
    "\n",
    "    return features_upsampled, target_upsampled"
   ]
  },
  {
   "cell_type": "code",
   "execution_count": 23,
   "metadata": {},
   "outputs": [],
   "source": [
    "def downsample(features, target, fraction): # Downsamples the negative class\n",
    "    features_zeros = features[target == 0]\n",
    "    features_ones = features[target == 1]\n",
    "    target_zeros = target[target == 0]\n",
    "    target_ones = target[target == 1]\n",
    "\n",
    "    features_downsampled = pd.concat(\n",
    "        [features_zeros.sample(frac=fraction, random_state=54321)] + [features_ones])\n",
    "    target_downsampled = pd.concat(\n",
    "        [target_zeros.sample(frac=fraction, random_state=54321)] + [target_ones])\n",
    "\n",
    "    features_downsampled, target_downsampled = shuffle(\n",
    "        features_downsampled, target_downsampled, random_state=54321)\n",
    "\n",
    "    return features_downsampled, target_downsampled"
   ]
  },
  {
   "cell_type": "markdown",
   "metadata": {},
   "source": [
    "### Logistics Regression Model"
   ]
  },
  {
   "cell_type": "markdown",
   "metadata": {},
   "source": [
    "Mari kita seimbangkan kelas dengan melakukan sedikit downsampling dan upsampling, pertama-tama fokus pada kumpulan data regresi logistik. Tujuan saya menggunakan model ini adalah agar kelas-kelasnya seimbang."
   ]
  },
  {
   "cell_type": "code",
   "execution_count": 24,
   "metadata": {},
   "outputs": [
    {
     "name": "stdout",
     "output_type": "stream",
     "text": [
      "(4804, 11)\n",
      "(4804,)\n",
      "1    2406\n",
      "0    2398\n",
      "Name: Exited, dtype: int64\n"
     ]
    }
   ],
   "source": [
    "features_train_ohe_downsampled, target_train_downsampled = downsample(features_train_ohe, target_train, 0.5)\n",
    "features_train_ohe_balanced, target_train_balanced = upsample(features_train_ohe_downsampled, target_train_downsampled, 2)\n",
    "\n",
    "print(features_train_ohe_balanced.shape)\n",
    "print(target_train_balanced.shape)\n",
    "print(target_train_balanced.value_counts())"
   ]
  },
  {
   "cell_type": "markdown",
   "metadata": {},
   "source": [
    "Kelas-kelas telah diseimbangkan secara merata melalui kombinasi `downsampling` dan `upsampling`. Kedua set tersebut memiliki panjang yang sama."
   ]
  },
  {
   "cell_type": "code",
   "execution_count": 25,
   "metadata": {},
   "outputs": [
    {
     "name": "stdout",
     "output_type": "stream",
     "text": [
      "F1 score for training set: 0.4860253015592822\n",
      "Accuracy for training set: 0.7088333333333333\n",
      "\n",
      "F1 score for validation set: 0.49871904355251917\n",
      "Accuracy for validation set: 0.7065\n"
     ]
    }
   ],
   "source": [
    "model = LogisticRegression(solver='liblinear', random_state=123) # Menggunakan liblinear untuk dataset ukuran kecil\n",
    "model.fit(features_train_ohe_balanced, target_train_balanced)\n",
    "\n",
    "pred_train = model.predict(features_train_ohe)\n",
    "f1_score_train = f1_score(target_train, pred_train)\n",
    "accuracy_train = accuracy_score(target_train, pred_train)\n",
    "\n",
    "print('F1 score for training set:', f1_score_train)\n",
    "print('Accuracy for training set:', accuracy_train)\n",
    "print()\n",
    "\n",
    "pred_valid = model.predict(features_valid_ohe)\n",
    "f1_score_valid = f1_score(target_valid, pred_valid)\n",
    "accuracy_valid = accuracy_score(target_valid, pred_valid)\n",
    "\n",
    "print('F1 score for validation set:', f1_score_valid)\n",
    "print('Accuracy for validation set:', accuracy_valid)"
   ]
  },
  {
   "cell_type": "markdown",
   "metadata": {},
   "source": [
    "Skor validasi F1 sedikit lebih tinggi dibandingkan ketika kelas tidak seimbang, meskipun masih sedikit di bawah persyaratan. Skor akurasinya pun menurun."
   ]
  },
  {
   "cell_type": "markdown",
   "metadata": {},
   "source": [
    "###  Decision Tree Model"
   ]
  },
  {
   "cell_type": "code",
   "execution_count": 26,
   "metadata": {},
   "outputs": [
    {
     "name": "stdout",
     "output_type": "stream",
     "text": [
      "(4804, 11)\n",
      "(4804,)\n",
      "1    2406\n",
      "0    2398\n",
      "Name: Exited, dtype: int64\n"
     ]
    }
   ],
   "source": [
    "features_train_ord_downsampled, target_train_downsampled = downsample(features_train_ord, target_train, 0.5)\n",
    "features_train_ord_balanced, target_train_balanced = upsample(features_train_ord_downsampled, target_train_downsampled, 2)\n",
    "\n",
    "print(features_train_ord_balanced.shape)\n",
    "print(target_train_balanced.shape)\n",
    "print(target_train_balanced.value_counts())"
   ]
  },
  {
   "cell_type": "code",
   "execution_count": 27,
   "metadata": {},
   "outputs": [
    {
     "name": "stdout",
     "output_type": "stream",
     "text": [
      "Best F1 score: 0.5588235294117648 diperoleh dengan kedalaman maksimum 7.\n",
      "Model accuracy: 0.775\n"
     ]
    }
   ],
   "source": [
    "best_depth = 0\n",
    "model_accuracy = 0\n",
    "best_f1_score = 0\n",
    "model_tree = None\n",
    "\n",
    "for depth in range(1,11):\n",
    "    model = DecisionTreeClassifier(max_depth=depth, random_state = 123)\n",
    "    model.fit(features_train_ord_balanced, target_train_balanced) # Fit model dengan training data\n",
    "    pred_valid = model.predict(features_valid_ord)\n",
    "    \n",
    "    f1_score_var = f1_score(target_valid, pred_valid) # Menghitung score f1\n",
    "    accuracy = accuracy_score(target_valid, pred_valid)\n",
    "\n",
    "    # Dokumentasikan hyperparameter dengan performa tertinggi, beserta akurasinya yang sesuai\n",
    "    if f1_score_var > best_f1_score: \n",
    "        best_f1_score = f1_score_var\n",
    "        model_accuracy = accuracy\n",
    "        best_depth = depth\n",
    "        model_tree = model\n",
    "        \n",
    "print(f'Best F1 score: {best_f1_score} diperoleh dengan kedalaman maksimum {best_depth}.') \n",
    "print(f'Model accuracy: {model_accuracy}') "
   ]
  },
  {
   "cell_type": "markdown",
   "metadata": {},
   "source": [
    "Skor F1 sedikit lebih tinggi dibandingkan sebelum kelas penyeimbangan, namun masih belum memenuhi persyaratan."
   ]
  },
  {
   "cell_type": "markdown",
   "metadata": {},
   "source": [
    "###  Random Forest Model"
   ]
  },
  {
   "cell_type": "markdown",
   "metadata": {},
   "source": [
    "Random Forest model adalah model dengan kinerja terbaik di bagian sebelumnya, saya ingin melakukan yang terbaik untuk mengoptimalkan model ini. Alih-alih membuat kelasnya sama, saya ingin menambahkan loop ke dalam pelatihan model saya yang akan meningkatkan dan menurunkan sampel data saya pada pengali dan pecahan yang berbeda, selain mengulang jumlah penduga dan kedalaman maksimal. Untuk menjaga performa model pada kecepatan yang wajar, saya akan menjaga jumlah penduga saya dalam kisaran yang lebih ketat daripada sebelumnya, yang diharapkan juga akan membantu menghindari overfitting."
   ]
  },
  {
   "cell_type": "code",
   "execution_count": 28,
   "metadata": {},
   "outputs": [
    {
     "name": "stdout",
     "output_type": "stream",
     "text": [
      "Best F1 score: 0.6192170818505338 obtained using 20 trees with max_depth 7.\n",
      "Ideal class balance achieved using downsampling fraction 1.0 and upsampling multiplier 3.\n",
      "Model accuracy: 0.8395\n"
     ]
    }
   ],
   "source": [
    "best_f1_score = 0\n",
    "model_accuracy = 0\n",
    "best_est = 0\n",
    "best_depth = 0\n",
    "model_forest = None\n",
    "best_x = 0\n",
    "best_y = 0\n",
    "\n",
    "for x in range(5, 11): # Melakukan loop melalui downsampling fractions 0.5 to 1\n",
    "    for y in range(1, 4): # Melakukan loop melalui upsample multipliers 1 to 3 (see upsample function call below)\n",
    "        for est in range (20, 51, 10):\n",
    "            for depth in range (1, 11):\n",
    "                \n",
    "                features_train_ord_downsampled, target_train_downsampled = downsample(features_train_ord, target_train, x/10)\n",
    "                features_train_ord_balanced, target_train_balanced = upsample(features_train_ord_downsampled, target_train_downsampled, y)\n",
    "                \n",
    "                model = RandomForestClassifier(\n",
    "                    max_features=1.0,\n",
    "                    n_estimators=est, max_depth=depth, random_state=123)\n",
    "                model.fit(features_train_ord_balanced, target_train_balanced)\n",
    "                pred_valid = model.predict(features_valid_ord)\n",
    "\n",
    "                f1_score_var = f1_score(target_valid, pred_valid) # Menghitung score f1\n",
    "                accuracy = accuracy_score(target_valid, pred_valid)\n",
    "\n",
    "                if f1_score_var > best_f1_score: \n",
    "                    best_f1_score = f1_score_var\n",
    "                    model_accuracy = accuracy\n",
    "                    best_depth = depth\n",
    "                    best_est = est\n",
    "                    model_forest = model  \n",
    "                    best_x = x\n",
    "                    best_y = y\n",
    "            \n",
    "print(f\"Best F1 score: {best_f1_score} obtained using {best_est} trees with\\\n",
    " max_depth {best_depth}.\")\n",
    "print(f'Ideal class balance achieved using downsampling fraction {x/10} and upsampling multiplier {y}.')\n",
    "print(f'Model accuracy: {model_accuracy}')"
   ]
  },
  {
   "cell_type": "markdown",
   "metadata": {},
   "source": [
    "Skor F1 yang diukur dari set validasi adalah 0,61, yang berada di atas persyaratan sebesar 0,59 Skor ini dihasilkan dari zero downsampling dan 3x upsampling. Mungkin menghapus data pelatihan tidak selalu ideal. Hyperparameter: 30 pohon, kedalaman maksimal 9. Dengan nol downsampling dan 3x upsampling."
   ]
  },
  {
   "cell_type": "code",
   "execution_count": 29,
   "metadata": {},
   "outputs": [
    {
     "name": "stdout",
     "output_type": "stream",
     "text": [
      "Best F1 score: 0.5890410958904109 obtained using 30 trees with max_depth 9.\n",
      "Ideal class balance achieved using downsampling fraction 1.0 and upsampling multiplier 3.\n",
      "Model accuracy: 0.82\n"
     ]
    }
   ],
   "source": [
    "features_train_ord_downsampled, target_train_downsampled = downsample(features_train_ord, target_train, 1)\n",
    "features_train_ord_balanced, target_train_balanced = upsample(features_train_ord_downsampled, target_train_downsampled, 3)\n",
    "\n",
    "model_forest = RandomForestClassifier(\n",
    "    max_features=1.0,\n",
    "    n_estimators=30, max_depth=9, random_state=123)\n",
    "model_forest.fit(features_train_ord_balanced, target_train_balanced)\n",
    "pred_valid = model_forest.predict(features_valid_ord)\n",
    "\n",
    "f1_score_var = f1_score(target_valid, pred_valid)  # Menghitung score f1\n",
    "accuracy = accuracy_score(target_valid, pred_valid)\n",
    "\n",
    "print(f\"Best F1 score: {f1_score_var} obtained using 30 trees with max_depth 9.\")\n",
    "print(f'Ideal class balance achieved using downsampling fraction 1.0 and upsampling multiplier 3.')\n",
    "print(f'Model accuracy: {accuracy}')\n"
   ]
  },
  {
   "cell_type": "markdown",
   "metadata": {},
   "source": [
    "<div class=\"alert alert-success\">\n",
    "<b>Chamdani's comment v.1</b> <a class=\"tocSkip\"></a>\n",
    "\n",
    "Hebat, Kerja bagus!\n",
    "\n",
    "</div>"
   ]
  },
  {
   "cell_type": "markdown",
   "metadata": {},
   "source": [
    "## Test Model "
   ]
  },
  {
   "cell_type": "markdown",
   "metadata": {},
   "source": [
    "Mari kita uji model dengan performa tertinggi, `Random Forest` model.\n"
   ]
  },
  {
   "cell_type": "code",
   "execution_count": 30,
   "metadata": {},
   "outputs": [
    {
     "name": "stdout",
     "output_type": "stream",
     "text": [
      "F1 score for test set: 0.6361607142857142\n",
      "Accuracy for test set: 0.837\n"
     ]
    }
   ],
   "source": [
    "pred_test = model_forest.predict(features_test_ord)\n",
    "f1_score_test = f1_score(target_test, pred_test)\n",
    "accuracy_test = accuracy_score(target_test, pred_test)\n",
    "\n",
    "print('F1 score for test set:', f1_score_test)\n",
    "print('Accuracy for test set:', accuracy_test)"
   ]
  },
  {
   "cell_type": "markdown",
   "metadata": {},
   "source": [
    "Skor F1 jauh di atas persyaratan yang ditentukan yaitu 0,59 Dan akurasinya juga berada di atas persyaratan yang telah ditentukan yaitu 0,80, yang menunjukkan bahwa model kami memiliki performa lebih baik daripada menebak semua angka nol. Selanjutnya Mari kita periksa skor AUC-ROC"
   ]
  },
  {
   "cell_type": "code",
   "execution_count": 31,
   "metadata": {},
   "outputs": [
    {
     "data": {
      "image/png": "[encoded data removed]",
      "text/plain": [
       "<Figure size 288x288 with 1 Axes>"
      ]
     },
     "metadata": {
      "needs_background": "light"
     },
     "output_type": "display_data"
    },
    {
     "name": "stdout",
     "output_type": "stream",
     "text": [
      "AUC-ROC score: 0.8692933640367709\n"
     ]
    }
   ],
   "source": [
    "probabilities_test = model_forest.predict_proba(features_test_ord)\n",
    "probabilities_one_test = probabilities_test[:, 1]\n",
    "\n",
    "fpr, tpr, thresholds = roc_curve(target_test, probabilities_one_test)\n",
    "\n",
    "plt.figure(figsize=(4,4))\n",
    "plt.plot(fpr, tpr)\n",
    "plt.plot([0, 1], [0, 1], linestyle='--')\n",
    "plt.xlim([0,1])\n",
    "plt.ylim([0,1])\n",
    "\n",
    "plt.xlabel('False Positive Rate')\n",
    "plt.ylabel('True Positive Rate')\n",
    "plt.title('ROC curve')\n",
    "\n",
    "plt.show()\n",
    "\n",
    "auc_roc = roc_auc_score(target_test, probabilities_one_test)\n",
    "print(f\"AUC-ROC score: {auc_roc}\")"
   ]
  },
  {
   "cell_type": "markdown",
   "metadata": {},
   "source": [
    "Skor AUC-ROC jauh di atas 0,5 dan kurvanya terlihat sangat bagus. Model ini memenuhi semua persyaratan."
   ]
  },
  {
   "cell_type": "code",
   "execution_count": 32,
   "metadata": {
    "scrolled": true
   },
   "outputs": [
    {
     "data": {
      "text/plain": [
       "['BetaBankChurnPredictor.joblib']"
      ]
     },
     "execution_count": 32,
     "metadata": {},
     "output_type": "execute_result"
    }
   ],
   "source": [
    "dump(model_forest, 'BetaBankChurnPredictor.joblib')"
   ]
  },
  {
   "cell_type": "markdown",
   "metadata": {},
   "source": [
    "## Kesimpulan"
   ]
  },
  {
   "cell_type": "markdown",
   "metadata": {},
   "source": [
    "Tujuan dari project ini adalah membangun model klasifikasi yang dapat memprediksi apakah nasabah Bank Beta akan tetap berada di bank Beta atau tidak dalam waktu dekat. Untuk mencapai hal ini, saya memproses data dengan membaginya menjadi `features/target`, membaginya menjadi set `training/validation/testing test`, dan menstandarkan fitur dengan cara yang sesuai dengan model yang di latih - pengkodean `one-hot` untuk Logistic Regression, dan pengkodean label untuk Decisision Tree dan juga Random Forest. Lalu menyeimbangkan kelas dan menemukan bahwa model Random Forest (dengan 30 pohon, kedalaman maksimal 9, nol downsampling, dan 3x upsampling) memiliki performa terbaik dalam hal skor F1. Persyaratan untuk skor F1 adalah 0,59, dan model ini memiliki skor F1 0,64 saat dilatih dengan untuk scikit-learn, dan skor F1 0,63 tanpa ekstensi ini, serta skor akurasi dan AUC-ROC yang lolos pemeriksaan sanity check. Saya menyimpan model sebagai file .joblib ke mesin learning untuk diamankan. Secara pribadi, saya mencari tahu kapan harus menggunakan enkode `one-hot` vs `encode lable`, dan memikirkan cara menstandardisasi fitur numerik. Menyeimbangkan kelas ternyata cukup rumit dari yang diperkirakan, namun pada akhirnya saya menyempurnakan skor F1."
   ]
  }
 ],
 "metadata": {
  "kernelspec": {
   "display_name": "Python 3 (ipykernel)",
   "language": "python",
   "name": "python3"
  },
  "language_info": {
   "codemirror_mode": {
    "name": "ipython",
    "version": 3
   },
   "file_extension": ".py",
   "mimetype": "text/x-python",
   "name": "python",
   "nbconvert_exporter": "python",
   "pygments_lexer": "ipython3",
   "version": "3.9.19"
  },
  "toc": {
   "base_numbering": 1,
   "nav_menu": {},
   "number_sections": true,
   "sideBar": true,
   "skip_h1_title": true,
   "title_cell": "Table of Contents",
   "title_sidebar": "Contents",
   "toc_cell": false,
   "toc_position": {},
   "toc_section_display": true,
   "toc_window_display": false
  }
 },
 "nbformat": 4,
 "nbformat_minor": 2
}
